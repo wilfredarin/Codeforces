{
 "cells": [
  {
   "cell_type": "markdown",
   "metadata": {},
   "source": [
    "# Game With String \n",
    "[I want to see the question on Codeforces](http://codeforces.com/contest/1104/problem/B)\n",
    "\n",
    "| Input | \n",
    "| ------------- |\n",
    "| abacaba  |\n",
    "\n",
    "|Output    | \n",
    "| ------------- |\n",
    "|No   |\n"
   ]
  },
  {
   "cell_type": "code",
   "execution_count": 2,
   "metadata": {},
   "outputs": [
    {
     "name": "stdout",
     "output_type": "stream",
     "text": [
      "sameer\n",
      "Yes\n"
     ]
    }
   ],
   "source": [
    "s = input()\n",
    "\n",
    "stack = [\"@\"]\n",
    "count = 0\n",
    "\n",
    "for i in s:\n",
    "    if i == stack[-1]:\n",
    "        stack.pop()\n",
    "        count+=1\n",
    "    else:\n",
    "        stack.append(i)\n",
    "if count%2 ==0:\n",
    "    print(\"No\")\n",
    "else:\n",
    "    print(\"Yes\")        \n",
    "\n"
   ]
  },
  {
   "cell_type": "code",
   "execution_count": null,
   "metadata": {},
   "outputs": [],
   "source": []
  }
 ],
 "metadata": {
  "kernelspec": {
   "display_name": "Python 3",
   "language": "python",
   "name": "python3"
  },
  "language_info": {
   "codemirror_mode": {
    "name": "ipython",
    "version": 3
   },
   "file_extension": ".py",
   "mimetype": "text/x-python",
   "name": "python",
   "nbconvert_exporter": "python",
   "pygments_lexer": "ipython3",
   "version": "3.7.1"
  }
 },
 "nbformat": 4,
 "nbformat_minor": 2
}
